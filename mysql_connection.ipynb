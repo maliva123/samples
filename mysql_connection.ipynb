{
 "cells": [
  {
   "cell_type": "code",
   "execution_count": 14,
   "metadata": {},
   "outputs": [
    {
     "name": "stdout",
     "output_type": "stream",
     "text": [
      "987636553\n"
     ]
    }
   ],
   "source": [
    "import pymysql as MySQLdb\n",
    "\n",
    "db = MySQLdb.connect(host=\"localhost\",    # your host, usually localhost\n",
    "                     user=\"root\",         # your username\n",
    "                     passwd=\"Ofwgktap.1\",  # your password\n",
    "                     db=\"sys\")        # name of the data base\n",
    "\n",
    "# you must create a Cursor object. It will let\n",
    "#  you execute all the queries you need\n",
    "cur = db.cursor()\n",
    "\n",
    "# Use all the SQL you like\n",
    "cur.execute(\"select * from test_db.sample1;\")\n",
    "\n",
    "# print all the first cell of all the rows\n",
    "for row in cur.fetchall():\n",
    "    print (row[0])\n",
    "\n",
    "db.close()"
   ]
  },
  {
   "cell_type": "code",
   "execution_count": null,
   "metadata": {},
   "outputs": [],
   "source": [
    "#Create Table\n",
    "create_q=\"\"\"\n",
    "        CREATE TABLE test_db.sample1( hi integer )\"\"\"\n",
    "insert_q=\"\"\"\n",
    "        INSERT INTO test_db.sample1 (hi) VALUES ('0987636553');  \n",
    "        \"\"\"\n",
    "  "
   ]
  },
  {
   "cell_type": "code",
   "execution_count": null,
   "metadata": {},
   "outputs": [],
   "source": []
  }
 ],
 "metadata": {
  "kernelspec": {
   "display_name": "Python 3",
   "language": "python",
   "name": "python3"
  },
  "language_info": {
   "codemirror_mode": {
    "name": "ipython",
    "version": 3
   },
   "file_extension": ".py",
   "mimetype": "text/x-python",
   "name": "python",
   "nbconvert_exporter": "python",
   "pygments_lexer": "ipython3",
   "version": "3.7.6"
  }
 },
 "nbformat": 4,
 "nbformat_minor": 4
}
